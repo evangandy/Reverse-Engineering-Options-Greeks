{
 "cells": [
  {
   "cell_type": "markdown",
   "id": "12ef811d",
   "metadata": {},
   "source": [
    "# Delta Exploration Notebook\n",
    "\n",
    "## What is Delta $(\\Delta)$?\n",
    "\n",
    "Delta measures how much an option price contract changes for every change in $\\$1.00$ of the underlying security. This makes it the slope of the option price curve.\n",
    "\n",
    "## Example\n",
    "\n",
    "$\\Delta = 0.6$\n",
    "\n",
    "When the underlying stock goes up $\\$1$ the option only gains $\\$0.60$ in value."
   ]
  },
  {
   "cell_type": "code",
   "execution_count": 27,
   "id": "dd1e9807",
   "metadata": {},
   "outputs": [],
   "source": [
    "import random\n",
    "import math"
   ]
  },
  {
   "cell_type": "code",
   "execution_count": 28,
   "id": "c6960986",
   "metadata": {},
   "outputs": [],
   "source": [
    "stock_price = 100\n",
    "strike_price = 100\n",
    "option_price = 50"
   ]
  },
  {
   "cell_type": "markdown",
   "id": "0de974f9",
   "metadata": {},
   "source": [
    "For simplicity sake we will have the stock price change by some random amount and have the option value change by some random amount."
   ]
  },
  {
   "cell_type": "code",
   "execution_count": 29,
   "id": "8855121f",
   "metadata": {},
   "outputs": [
    {
     "name": "stdout",
     "output_type": "stream",
     "text": [
      "New Stock Price: 97.4949\n",
      "New Option Price: 50.1726\n"
     ]
    }
   ],
   "source": [
    "stock_price_change = random.uniform(-3, 3)\n",
    "option_price_change = random.uniform(-2, 2)\n",
    "\n",
    "new_stock_price = stock_price + stock_price_change\n",
    "new_option_price = option_price + option_price_change\n",
    "\n",
    "print('New Stock Price: ' + str(round(new_stock_price, 4)))\n",
    "print('New Option Price: ' + str(round(new_option_price, 4)))"
   ]
  },
  {
   "cell_type": "markdown",
   "id": "d3e77b80",
   "metadata": {},
   "source": [
    "## Formula\n",
    "\n",
    "Now we can reverse engineer the delta by finding the difference in the new and old prices of the underlying secuirty and the option price.\n",
    "\n",
    "**Formal Definition**\n",
    "\n",
    "$$\\Delta = \\frac{\\partial C}{\\partial S}$$\n",
    "\n",
    "**Practical Definition**\n",
    "\n",
    "$$\\Delta = \\frac{\\text{change in option price}}{\\text{change in stock price}}$$"
   ]
  },
  {
   "cell_type": "code",
   "execution_count": 30,
   "id": "18438ff8",
   "metadata": {},
   "outputs": [],
   "source": [
    "def calculate_delta(s1, s2, o1, o2):\n",
    "    \"\"\"\n",
    "    Calculate delta as the ratio of option price change to stock price change.\n",
    "    \n",
    "    Args:\n",
    "        s1: Initial stock price\n",
    "        s2: Final stock price\n",
    "        o1: Initial option price\n",
    "        o2: Final option price\n",
    "    \n",
    "    Returns:\n",
    "        The calculated delta value\n",
    "    \"\"\"\n",
    "    stock_change = s2 - s1\n",
    "    option_change = o2 - o1\n",
    "\n",
    "    return option_change / stock_change"
   ]
  },
  {
   "cell_type": "code",
   "execution_count": 31,
   "id": "55971e1c",
   "metadata": {},
   "outputs": [
    {
     "name": "stdout",
     "output_type": "stream",
     "text": [
      "Delta = -0.0689\n"
     ]
    }
   ],
   "source": [
    "implied_delta = calculate_delta(\n",
    "    s1=stock_price, \n",
    "    s2=new_stock_price,\n",
    "     \n",
    "    o1=option_price, \n",
    "    o2=new_option_price\n",
    ")\n",
    "\n",
    "print('Delta = ' + str(round(implied_delta, 4)))"
   ]
  },
  {
   "cell_type": "markdown",
   "id": "8d3e83d9",
   "metadata": {},
   "source": [
    "Due to the random way I generated option price changes, we can get $|\\Delta| > 1$, which is impossible in the real world. For a **call option**, delta must be between 0 and 1 because:\n",
    "\n",
    "- The option can never be worth more than the underlying stock\n",
    "- The option price can't change by more than the stock price change\n",
    "\n",
    "To fix this, I'll model a **call option** properly where:\n",
    "- The option and stock move in the **same direction** \n",
    "- The option change is 80% of the stock change\n",
    "- This should eventually give us a realistic delta of 0.8"
   ]
  },
  {
   "cell_type": "code",
   "execution_count": 32,
   "id": "57051fa7",
   "metadata": {},
   "outputs": [
    {
     "name": "stdout",
     "output_type": "stream",
     "text": [
      "Option Price Change: -2.004\n"
     ]
    }
   ],
   "source": [
    "# Clean up variables\n",
    "if stock_price_change >= 0:\n",
    "    option_price_change = abs(stock_price_change) * 0.80\n",
    "else:\n",
    "    option_price_change = stock_price_change * 0.8\n",
    "    \n",
    "new_option_price = option_price + option_price_change\n",
    "\n",
    "print('Option Price Change: ' + str(round(option_price_change, 4)))"
   ]
  },
  {
   "cell_type": "code",
   "execution_count": 33,
   "id": "efda64a8",
   "metadata": {},
   "outputs": [
    {
     "name": "stdout",
     "output_type": "stream",
     "text": [
      "New Stock Price: 97.4949\n",
      "New Option Price: 47.996\n"
     ]
    }
   ],
   "source": [
    "print('New Stock Price: ' + str(round(new_stock_price, 4)))\n",
    "print('New Option Price: ' + str(round(new_option_price, 4)))"
   ]
  },
  {
   "cell_type": "code",
   "execution_count": 34,
   "id": "8888faf0",
   "metadata": {},
   "outputs": [
    {
     "name": "stdout",
     "output_type": "stream",
     "text": [
      "Delta = 0.8\n"
     ]
    }
   ],
   "source": [
    "# calculate delta again with the new values\n",
    "\n",
    "implied_delta = calculate_delta(\n",
    "    s1=stock_price, \n",
    "    s2=new_stock_price, \n",
    "    \n",
    "    o1=option_price, \n",
    "    o2=new_option_price\n",
    ")\n",
    "print('Delta = ' + str(round(implied_delta, 4)))"
   ]
  },
  {
   "cell_type": "markdown",
   "id": "fae9073d",
   "metadata": {},
   "source": [
    "Now here we should see that $|\\Delta| = 0.8$ because the underlying option price always changes $\\$0.8$ for every $\\$1.0$ the stock price moves"
   ]
  },
  {
   "cell_type": "code",
   "execution_count": 35,
   "id": "63128bd6",
   "metadata": {},
   "outputs": [
    {
     "name": "stdout",
     "output_type": "stream",
     "text": [
      "\n",
      "=== MULTIPLE DELTA TESTS ===\n",
      "Test 1: Stock $+1.63 → Delta = 0.800\n",
      "Test 2: Stock $-2.61 → Delta = 0.800\n",
      "Test 3: Stock $+0.43 → Delta = 0.800\n",
      "Test 4: Stock $-0.33 → Delta = 0.800\n",
      "Test 5: Stock $-0.77 → Delta = 0.800\n",
      "Test 6: Stock $-1.39 → Delta = 0.800\n",
      "Test 7: Stock $-1.34 → Delta = 0.800\n",
      "Test 8: Stock $-1.82 → Delta = 0.800\n",
      "Test 9: Stock $+1.45 → Delta = 0.800\n",
      "Test 10: Stock $-1.06 → Delta = 0.800\n"
     ]
    }
   ],
   "source": [
    "print(\"\\n=== MULTIPLE DELTA TESTS ===\")\n",
    "\n",
    "deltas = []\n",
    "\n",
    "for i in range(10):\n",
    "    stock_price_change = random.uniform(-3, 3)\n",
    "    \n",
    "    if stock_price_change >= 0:\n",
    "        option_price_change = abs(stock_price_change) * 0.80\n",
    "    else:\n",
    "        option_price_change = stock_price_change * 0.8\n",
    "    \n",
    "    new_stock_price = stock_price + stock_price_change\n",
    "    new_option_price = option_price + option_price_change\n",
    "    \n",
    "    delta = calculate_delta(stock_price, new_stock_price, option_price, new_option_price)\n",
    "    deltas.append(delta)\n",
    "    \n",
    "    print(f\"Test {i+1}: Stock ${stock_price_change:+.2f} → Delta = {delta:.3f}\")"
   ]
  },
  {
   "cell_type": "code",
   "execution_count": 36,
   "id": "0dc10ef6",
   "metadata": {},
   "outputs": [
    {
     "name": "stdout",
     "output_type": "stream",
     "text": [
      "\n",
      "=== DELTA VALIDATION ===\n",
      "All deltas between 0 and 1? True\n",
      "Average delta: 0.800\n"
     ]
    }
   ],
   "source": [
    "print(\"\\n=== DELTA VALIDATION ===\")\n",
    "print(f\"All deltas between 0 and 1? {all(0 <= d <= 1 for d in deltas)}\")\n",
    "print(f\"Average delta: {sum(deltas)/len(deltas):.3f}\")"
   ]
  }
 ],
 "metadata": {
  "kernelspec": {
   "display_name": ".venv",
   "language": "python",
   "name": "python3"
  },
  "language_info": {
   "codemirror_mode": {
    "name": "ipython",
    "version": 3
   },
   "file_extension": ".py",
   "mimetype": "text/x-python",
   "name": "python",
   "nbconvert_exporter": "python",
   "pygments_lexer": "ipython3",
   "version": "3.13.5"
  }
 },
 "nbformat": 4,
 "nbformat_minor": 5
}
