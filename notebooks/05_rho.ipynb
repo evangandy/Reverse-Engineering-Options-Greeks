{
 "cells": [
  {
   "cell_type": "markdown",
   "metadata": {},
   "source": "# Rho Exploration Notebook\n\n## What is Rho $(\\rho)$?\n\nRho measures how much an option's price changes when the risk-free interest rate changes by 1 percentage point, assuming everything else stays constant.\n\n## Example\n\n$\\rho = 0.25$\n\nWhen interest rates increase by 1%, a call option gains $0.25 in value."
  },
  {
   "cell_type": "code",
   "execution_count": null,
   "metadata": {},
   "outputs": [],
   "source": [
    "import sys\n",
    "sys.path.append('../src')\n",
    "from formulas import calculate_rho\n",
    "import numpy as np"
   ]
  },
  {
   "cell_type": "markdown",
   "metadata": {},
   "source": [
    "## Basic Scenario: Fed Rate Change\n",
    "\n",
    "The Federal Reserve announces a rate hike from 3% to 4%. How does this affect our call option?\n",
    "\n",
    "**Given:**\n",
    "- Initial rate: 3% (0.03)\n",
    "- New rate: 4% (0.04)\n",
    "- Current option price: $5.00\n",
    "- New option price: $5.25"
   ]
  },
  {
   "cell_type": "code",
   "execution_count": null,
   "metadata": {},
   "outputs": [],
   "source": [
    "initial_rate = 0.03\n",
    "new_rate = 0.04\n",
    "initial_option_price = 5.00\n",
    "new_option_price = 5.25\n",
    "\n",
    "rho = calculate_rho(initial_rate, new_rate, initial_option_price, new_option_price)\n",
    "print(f\"Rho = {rho:.2f}\")\n",
    "print(f\"For every 1% increase in rates, option value increases by ${rho:.2f}\")"
   ]
  },
  {
   "cell_type": "markdown",
   "metadata": {},
   "source": [
    "## Formulas\n",
    "\n",
    "**Formal Definition**\n",
    "\n",
    "$$\\rho = \\frac{\\partial C}{\\partial r}$$\n",
    "\n",
    "**Practical Calculation**\n",
    "\n",
    "$$\\rho = \\frac{\\text{change in option price}}{\\text{change in interest rate}}$$"
   ]
  },
  {
   "cell_type": "markdown",
   "metadata": {},
   "source": [
    "## Multiple Rate Scenarios\n",
    "\n",
    "Let's test rho across different rate environments:"
   ]
  },
  {
   "cell_type": "code",
   "execution_count": null,
   "metadata": {},
   "outputs": [],
   "source": "# Interest rate scenarios (as decimals)\nrates = np.array([0.01, 0.02, 0.03, 0.04, 0.05, 0.06])\n\n# Corresponding option prices (call options benefit from higher rates)\noption_prices = np.array([4.50, 4.75, 5.00, 5.25, 5.50, 5.75])\n\nprint(\"Rate Environment Analysis:\")\nprint(\"=\" * 40)\n\nrhos = []\nfor i in range(len(rates) - 1):\n    r1, r2 = rates[i], rates[i + 1]\n    o1, o2 = option_prices[i], option_prices[i + 1]\n    \n    rho_value = calculate_rho(r1, r2, o1, o2)\n    rhos.append(rho_value)\n    \n    print(f\"{r1*100:.0f}% → {r2*100:.0f}%: ρ = {rho_value:.2f}\")\n\nprint(f\"\\nAverage rho: {np.mean(rhos):.2f}\")"
  },
  {
   "cell_type": "markdown",
   "metadata": {},
   "source": [
    "## Key Insights\n",
    "\n",
    "- **Call options** have positive rho (benefit from higher rates)\n",
    "- **Put options** have negative rho (hurt by higher rates)\n",
    "- **Longer time to expiration** = higher absolute rho values\n",
    "- Rho is typically the least impactful Greek for short-term options\n",
    "\n",
    "## Why Does Rho Matter?\n",
    "\n",
    "Higher interest rates increase the present value discount factor, making call options more valuable relative to owning the underlying stock directly."
   ]
  }
 ],
 "metadata": {
  "kernelspec": {
   "display_name": "Python 3",
   "language": "python",
   "name": "python3"
  },
  "language_info": {
   "codemirror_mode": {
    "name": "ipython",
    "version": 3
   },
   "file_extension": ".py",
   "mimetype": "text/x-python",
   "name": "python",
   "nbconvert_exporter": "python",
   "pygments_lexer": "ipython3",
   "version": "3.8.5"
  }
 },
 "nbformat": 4,
 "nbformat_minor": 4
}