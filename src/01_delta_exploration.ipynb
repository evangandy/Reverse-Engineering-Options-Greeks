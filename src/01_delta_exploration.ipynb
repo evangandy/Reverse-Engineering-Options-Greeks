{
 "cells": [
  {
   "cell_type": "markdown",
   "id": "12ef811d",
   "metadata": {},
   "source": [
    "# Delta Exploration Notebook\n",
    "\n",
    "## What is Delta $(\\Delta)$?\n",
    "\n",
    "Delta measures how much an option price contract changes for every change in $\\$1.00$ of the underlying security. This makes it the slope of the option price curve.\n",
    "\n",
    "## Example\n",
    "\n",
    "$\\Delta = 0.6$\n",
    "\n",
    "When the underlying stock goes up $\\$1$ the option only gains $\\$0.60$ in value."
   ]
  },
  {
   "cell_type": "code",
   "execution_count": null,
   "id": "dd1e9807",
   "metadata": {},
   "outputs": [],
   "source": [
    "import random\n",
    "import math"
   ]
  },
  {
   "cell_type": "code",
   "execution_count": null,
   "id": "c6960986",
   "metadata": {},
   "outputs": [],
   "source": [
    "stock_price = 100\n",
    "strike_price = 100\n",
    "option_price = 50"
   ]
  },
  {
   "cell_type": "markdown",
   "id": "0de974f9",
   "metadata": {},
   "source": [
    "For simplicity sake we will have the stock price change by some random amount and have the option value change by some random amount."
   ]
  },
  {
   "cell_type": "code",
   "execution_count": null,
   "id": "8855121f",
   "metadata": {},
   "outputs": [
    {
     "name": "stdout",
     "output_type": "stream",
     "text": [
      "New Stock Price: 100.2567\n",
      "New Option Price: 51.7948\n"
     ]
    }
   ],
   "source": [
    "stock_price_change = random.uniform(-3, 3)\n",
    "option_price_change = random.uniform(-2, 2)\n",
    "\n",
    "new_stock_price = stock_price + stock_price_change\n",
    "new_option_price = option_price + option_price_change\n",
    "\n",
    "print('New Stock Price: ' + str(round(new_stock_price, 4)))\n",
    "print('New Option Price: ' + str(round(new_option_price, 4)))"
   ]
  },
  {
   "cell_type": "markdown",
   "id": "d3e77b80",
   "metadata": {},
   "source": [
    "Nowe we can reverse engineer the delta by finding the difference in the new and old prices of the underlying secuirty and the option price."
   ]
  },
  {
   "cell_type": "code",
   "execution_count": null,
   "id": "18438ff8",
   "metadata": {},
   "outputs": [],
   "source": [
    "def calculate_delta(stock_price_1, stock_price_2, option_price_1, option_price_2):\n",
    "    calculated_stock_price_change = stock_price_2 - stock_price_1\n",
    "    calculated_stock_option_price_change = option_price_2 - option_price_1\n",
    "\n",
    "    return calculated_stock_option_price_change / calculated_stock_price_change"
   ]
  },
  {
   "cell_type": "code",
   "execution_count": null,
   "id": "55971e1c",
   "metadata": {},
   "outputs": [
    {
     "name": "stdout",
     "output_type": "stream",
     "text": [
      "Delta = 6.9905\n"
     ]
    }
   ],
   "source": [
    "implied_delta = calculate_delta(\n",
    "    stock_price_1=stock_price, \n",
    "    stock_price_2=new_stock_price,\n",
    "     \n",
    "    option_price_1=option_price, \n",
    "    option_price_2=new_option_price\n",
    ")\n",
    "\n",
    "print('Delta = ' + str(round(implied_delta, 4)))"
   ]
  },
  {
   "cell_type": "markdown",
   "id": "8d3e83d9",
   "metadata": {},
   "source": [
    "Due to the random way I generated option price changes, we can get $|\\Delta| > 1$, which is impossible in the real world. For a **call option**, delta must be between 0 and 1 because:\n",
    "\n",
    "- The option can never be worth more than the underlying stock\n",
    "- The option price can't change by more than the stock price change\n",
    "\n",
    "To fix this, I'll model a **call option** properly where:\n",
    "- The option and stock move in the **same direction** \n",
    "- The option change is at most 80% of the stock change\n",
    "- This gives us a realistic delta of 0.8"
   ]
  },
  {
   "cell_type": "code",
   "execution_count": null,
   "id": "57051fa7",
   "metadata": {},
   "outputs": [
    {
     "name": "stdout",
     "output_type": "stream",
     "text": [
      "Option Price Change: 0.2054\n"
     ]
    }
   ],
   "source": [
    "# Clean up variables\n",
    "if stock_price_change >= 0:\n",
    "    option_price_change = abs(stock_price_change) * 0.80\n",
    "else:\n",
    "    option_price_change = stock_price_change * 0.8\n",
    "    \n",
    "new_option_price = option_price + option_price_change\n",
    "\n",
    "print('Option Price Change: ' + str(round(option_price_change, 4)))"
   ]
  },
  {
   "cell_type": "code",
   "execution_count": null,
   "id": "efda64a8",
   "metadata": {},
   "outputs": [
    {
     "name": "stdout",
     "output_type": "stream",
     "text": [
      "New Stock Price: 100.2567\n",
      "New Option Price: 50.2054\n"
     ]
    }
   ],
   "source": [
    "print('New Stock Price: ' + str(round(new_stock_price, 4)))\n",
    "print('New Option Price: ' + str(round(new_option_price, 4)))"
   ]
  },
  {
   "cell_type": "code",
   "execution_count": null,
   "id": "8888faf0",
   "metadata": {},
   "outputs": [
    {
     "name": "stdout",
     "output_type": "stream",
     "text": [
      "Delta = 0.8\n"
     ]
    }
   ],
   "source": [
    "implied_delta = calculate_delta(\n",
    "    stock_price_1=stock_price, \n",
    "    stock_price_2=new_stock_price, \n",
    "    \n",
    "    option_price_1=option_price, \n",
    "    option_price_2=new_option_price\n",
    ")\n",
    "print('Delta = ' + str(round(implied_delta, 4)))"
   ]
  },
  {
   "cell_type": "markdown",
   "id": "fae9073d",
   "metadata": {},
   "source": [
    "Now here we should see that $|\\Delta| = 0.8$ because the underlying option price always changes $\\$0.8$ for every $\\$1.0$ the stock price moves"
   ]
  },
  {
   "cell_type": "code",
   "execution_count": null,
   "id": "63128bd6",
   "metadata": {},
   "outputs": [
    {
     "name": "stdout",
     "output_type": "stream",
     "text": [
      "\n",
      "=== MULTIPLE DELTA TESTS ===\n",
      "Test 1: Stock $-0.83 → Delta = 0.800\n",
      "Test 2: Stock $+1.87 → Delta = 0.800\n",
      "Test 3: Stock $+2.83 → Delta = 0.800\n",
      "Test 4: Stock $+1.88 → Delta = 0.800\n",
      "Test 5: Stock $-2.57 → Delta = 0.800\n",
      "Test 6: Stock $+2.12 → Delta = 0.800\n",
      "Test 7: Stock $+0.12 → Delta = 0.800\n",
      "Test 8: Stock $+1.44 → Delta = 0.800\n",
      "Test 9: Stock $+0.05 → Delta = 0.800\n",
      "Test 10: Stock $+1.68 → Delta = 0.800\n"
     ]
    }
   ],
   "source": [
    "print(\"\\n=== MULTIPLE DELTA TESTS ===\")\n",
    "\n",
    "deltas = []\n",
    "\n",
    "for i in range(10):\n",
    "    stock_price_change = random.uniform(-3, 3)\n",
    "    \n",
    "    if stock_price_change >= 0:\n",
    "        option_price_change = abs(stock_price_change) * 0.80\n",
    "    else:\n",
    "        option_price_change = stock_price_change * 0.8\n",
    "    \n",
    "    new_stock_price = stock_price + stock_price_change\n",
    "    new_option_price = option_price + option_price_change\n",
    "    \n",
    "    delta = calculate_delta(stock_price, new_stock_price, option_price, new_option_price)\n",
    "    deltas.append(delta)\n",
    "    \n",
    "    print(f\"Test {i+1}: Stock ${stock_price_change:+.2f} → Delta = {delta:.3f}\")"
   ]
  },
  {
   "cell_type": "code",
   "execution_count": null,
   "id": "0dc10ef6",
   "metadata": {},
   "outputs": [
    {
     "name": "stdout",
     "output_type": "stream",
     "text": [
      "\n",
      "=== DELTA VALIDATION ===\n",
      "All deltas between 0 and 1? True\n",
      "Average delta: 0.800\n"
     ]
    }
   ],
   "source": [
    "print(\"\\n=== DELTA VALIDATION ===\")\n",
    "print(f\"All deltas between 0 and 1? {all(0 <= d <= 1 for d in deltas)}\")\n",
    "print(f\"Average delta: {sum(deltas)/len(deltas):.3f}\")"
   ]
  }
 ],
 "metadata": {
  "language_info": {
   "name": "python"
  }
 },
 "nbformat": 4,
 "nbformat_minor": 5
}
